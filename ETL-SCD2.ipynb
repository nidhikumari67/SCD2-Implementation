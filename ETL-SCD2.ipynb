{
 "cells": [
  {
   "cell_type": "code",
   "execution_count": null,
   "id": "724a62d8-b827-40a6-a893-ac45936c55f3",
   "metadata": {},
   "outputs": [],
   "source": [
    "import pandas as pd\n",
    "#use to connect database\n",
    "import sqlalchemy as sal\n",
    "engine=sal.create_engine('mssql://LAPTOP-27\\SQLEXPRESS/master?driver=ODBC+DRIVER+17+FOR+SQL+SERVER')\n",
    "conn=engine.connect()"
   ]
  },
  {
   "cell_type": "code",
   "execution_count": null,
   "id": "3f434fa5-fd2a-4cef-bc97-45756ce582c7",
   "metadata": {},
   "outputs": [],
   "source": [
    "def extract():\n",
    "    #read text file\n",
    "    df_product=pd.read_csv('products.txt')\n",
    "    #read sql table\n",
    "    df_product_db=pd.read_sql_query(\"select * from product_dim where end_date = '9999-12-31' \" ,conn)\n",
    "    return df_product,df_product_db\n",
    "    \n",
    "def transform(df_product,df_product_db):\n",
    "    df_merged=pd.merge(df_product,df_product_db,how='inner',left_on='product_id',right_on='product_id')\n",
    "    update_rows= df_merged['product_key']\n",
    "    keys = update_rows.to_list()\n",
    "    product_keys= ','.join([str(key) for key in keys])\n",
    "    return product_keys\n",
    "    \n",
    "def inserts(df_product):\n",
    "    df_product['start_date'] =pd.to_datetime('now').strftime('%Y-%m-%d')\n",
    "    df_product['end_date'] = '9999-12-31'\n",
    "    df_product.to_sql('product_dim',con=conn , index=False , if_exists = 'append')\n",
    "    conn.commit()\n",
    "    \n",
    "def updates(product_keys):\n",
    "    query = sal.text(\"update product_dim set end_date =  cast(getdate()-1 as date) where product_key in (\" + product_keys + \")\")\n",
    "    p = conn.execute(query)\n",
    "    conn.commit()    "
   ]
  },
  {
   "cell_type": "code",
   "execution_count": null,
   "id": "1c7bcfc1-55d7-4d71-8243-c7890d96c3e2",
   "metadata": {},
   "outputs": [],
   "source": [
    "df_product,df_product_db=extract()\n",
    "product_keys=transform(df_product,df_product_db)\n",
    "inserts(df_product)\n",
    "if product_keys!='':\n",
    "    updates(product_keys)"
   ]
  }
 ],
 "metadata": {
  "kernelspec": {
   "display_name": "Python 3 (ipykernel)",
   "language": "python",
   "name": "python3"
  },
  "language_info": {
   "codemirror_mode": {
    "name": "ipython",
    "version": 3
   },
   "file_extension": ".py",
   "mimetype": "text/x-python",
   "name": "python",
   "nbconvert_exporter": "python",
   "pygments_lexer": "ipython3",
   "version": "3.11.5"
  }
 },
 "nbformat": 4,
 "nbformat_minor": 5
}
